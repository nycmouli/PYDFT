{
 "cells": [
  {
   "cell_type": "code",
   "execution_count": 1,
   "metadata": {
    "collapsed": false
   },
   "outputs": [],
   "source": [
    "####Implementing the one line poisson solver.\n",
    "\"\"\"This notebook has a code written in Python2.\n",
    "The code solves the poisson's equation numerically with in a unit cell\n",
    "using the method described in Tomas Arias lecture.\"\"\";"
   ]
  },
  {
   "cell_type": "code",
   "execution_count": 2,
   "metadata": {
    "collapsed": false
   },
   "outputs": [
    {
     "name": "stdout",
     "output_type": "stream",
     "text": [
      "Populating the interactive namespace from numpy and matplotlib\n"
     ]
    },
    {
     "name": "stderr",
     "output_type": "stream",
     "text": [
      "/usr/local/lib/python2.7/site-packages/IPython/kernel/__init__.py:13: ShimWarning: The `IPython.kernel` package has been deprecated. You should import from ipykernel or jupyter_client instead.\n",
      "  \"You should import from ipykernel or jupyter_client instead.\", ShimWarning)\n"
     ]
    }
   ],
   "source": [
    "\"\"\"Importing all the necessary funtions required for this code\"\"\"\n",
    "# numpy for math calculations\n",
    "import numpy as np  \n",
    "# For pplotting or visualising \n",
    "import matplotlib.pylab as pylab \n",
    "%pylab notebook\n",
    "pylab.rcParams['figure.figsize'] = (10, 6)\n",
    "import matplotlib.pyplot as plt\n",
    "# For performing linear algebra operations using matrices\n",
    "from numpy import linalg as LA\n",
    "from numpy.linalg import inv\n",
    "import operator\n",
    "# for Generating tuples list.\n",
    "import itertools "
   ]
  },
  {
   "cell_type": "code",
   "execution_count": 3,
   "metadata": {
    "collapsed": false
   },
   "outputs": [],
   "source": [
    "### Creating the setup.m file. All these inputs are setup.\n",
    "\n",
    "\"\"\"Creating the Cell and Geometry\n",
    "\n",
    "    Defining the variables \n",
    "    \n",
    "    R=[a,b,c] => Defines the lattice vectors. (a,b,c) are any +ve integers.\n",
    "    s=[a,b,c] => Defines the number of sample points along the\n",
    "                    lattice vectors.  (a,b,c) are any integers.\n",
    "    sig=[a,b,c,...] => Defining sigma for each gaussian funtion to be summed up.\n",
    "    coeff=array of {+/-}coefficients. The factor is used for gaussian.  \n",
    "         Gaussian => coeff[0].Gaussian(sig[0])+coeff[1].Gaussian(sig[1])+....so on.\n",
    "\"\"\"\n",
    "#Inputs for Geometry\n",
    "s = [4,4,4]\n",
    "R= np.diag([4,4,4])\n",
    "#Input for Charge distribution \n",
    "sig=[0.75,0.5]\n",
    "coeff=[-1,1]"
   ]
  },
  {
   "cell_type": "code",
   "execution_count": 4,
   "metadata": {
    "collapsed": true
   },
   "outputs": [],
   "source": [
    "def _M(s):\n",
    "    \"\"\"Defining the 'M' matrix.\n",
    "    'M' has coordinates in matrix form for each sample point in real space.\n",
    "    We use M to get list of real space sample  points 'r'\n",
    "    r=M(Diag(S))^(-1)R^(Transpose)\n",
    "    \n",
    "     Args:\n",
    "        input:\n",
    "            s => number of sample points along the lattice vectors.\n",
    "        output: \n",
    "            M matrix. \n",
    "    \"\"\"\n",
    "    M = tuple(itertools.product(*[range(0,s[0]),range(0,s[1]),range(0,s[2])]))\n",
    "    M=[list(i) for i in M]\n",
    "    return M"
   ]
  },
  {
   "cell_type": "code",
   "execution_count": 5,
   "metadata": {
    "collapsed": false
   },
   "outputs": [],
   "source": [
    "\"\"\"This does not work here. It works in terminal code.\"\"\"\n",
    "def test_M():\n",
    "    \"\"\"Tests that the generate M subroutine works.                                                                                                                          \n",
    "    \"\"\"\n",
    "    assert _M([2,2,2])==[[0, 0, 0],[0, 0, 1], [0, 1, 0], [0, 1, 1], [1, 0, 0], [1, 0, 1], [1, 1, 0], [1, 1, 1]]\n",
    "    assert _M([3,2,1])==[[0, 0, 0], [0, 1, 0], [1, 0, 0], [1, 1, 0], [2, 0, 0], [2, 1, 0]]"
   ]
  },
  {
   "cell_type": "code",
   "execution_count": 6,
   "metadata": {
    "collapsed": true
   },
   "outputs": [],
   "source": [
    "\n",
    "def _N(s):\n",
    "    \"\"\"Defining the 'N' matrix.\n",
    "    'N' has coordinates in matrix form for each sample point in reciprocal\n",
    "    space.\n",
    "    We use N to get list of reciprocal lattice vectos 'G'\n",
    "    G= 2*pi*N*R^(inverse)\n",
    "    \n",
    "    Args:\n",
    "        input:\n",
    "            s => number of sample points along the lattice vectors.\n",
    "        output: \n",
    "            N matrix. \n",
    "    \"\"\"\n",
    "    M=_M(s)\n",
    "    m1=np.transpose(M)[0]\n",
    "    m2=np.transpose(M)[1]\n",
    "    m3=np.transpose(M)[2]\n",
    "    n1=[ m1[i]-s[0] if m1[i] > s[0]/2 else m1[i] for i in range(len(m1)) ]\n",
    "    n2=[ m2[i]-s[1] if m2[i] > s[1]/2 else m2[i] for i in range(len(m2)) ]\n",
    "    n3=[ m3[i]-s[2] if m3[i] > s[2]/2 else m3[i] for i in range(len(m3)) ]\n",
    "    N=np.transpose([n1,n2,n3])\n",
    "    return N"
   ]
  },
  {
   "cell_type": "code",
   "execution_count": 7,
   "metadata": {
    "collapsed": true
   },
   "outputs": [],
   "source": [
    "def test_N():\n",
    "    \"\"\"Tests that the generate N subroutine works.                                                                                                                          \n",
    "    \"\"\"\n",
    "    assert _N([2,2,2])==array([[0, 0, 0],[0, 0, 1],[0, 1, 0],[0, 1, 1],[1, 0, 0],[1, 0, 1],[1, 1, 0],[1, 1, 1]])\n",
    "    assert _N([3,2,1])==array([[ 0,  0,  0],[ 0,  1,  0],[ 1,  0,  0],[ 1,  1,  0],[-1,  0,  0],[-1,  1,  0]])"
   ]
  },
  {
   "cell_type": "code",
   "execution_count": 8,
   "metadata": {
    "collapsed": false
   },
   "outputs": [],
   "source": [
    "def test_N():\n",
    "    \"\"\"Tests that the generate N subroutine works.                                                                                                                          \n",
    "    This is another way to test arrays. using np.allclose                                                                                                                   \n",
    "    \"\"\"\n",
    "    assert np.allclose(_N([3,2,1]),np.array([[ 0,  0,  0],[ 0,  1,  0],[ 1,  0,  0],[ 1,  1,  0],[-1,  0,  0],[-1,  1,  0]])) == True\n",
    "    assert np.allclose(_N([2,2,2]),np.array([[0, 0, 0],\n",
    "                                             [0, 0, 1],\n",
    "                                             [0, 1, 0],\n",
    "                                             [0, 1, 1],\n",
    "                                             [1, 0, 0],\n",
    "                                             [1, 0, 1],\n",
    "                                             [1, 1, 0],\n",
    "                                             [1, 1, 1]]))"
   ]
  },
  {
   "cell_type": "code",
   "execution_count": 9,
   "metadata": {
    "collapsed": false
   },
   "outputs": [],
   "source": [
    "def _gen_r_G_G2(s,R,p=None):\n",
    "    \"\"\"Generates r, G and G2 matrices.\n",
    "    \n",
    "    Args: input:\n",
    "           s => number of sample points along the lattice vectors. \n",
    "           R=[a,b,c] => Defines the lattice vectors. (a,b,c) are any +ve integers.\n",
    "           p = 'r', 'G' or 'G2'(square of G matrix) \n",
    "           \n",
    "          Output:\n",
    "           p='r' => Outputs r matrix.\n",
    "           p='G' => Outputs G matrix.\n",
    "           p='2' => Outputs G2 matrix.\n",
    "       \n",
    "       Example: s = [15,15,15]\n",
    "                R= np.diag([6,6,6])\n",
    "                _gen_r_G_G2(s,R,\"r\")\n",
    "    \"\"\"\n",
    "    if p is None:\n",
    "        return \"Please pass a third argument asking for 'r', 'G' or 'G2'.\"\n",
    "    if p is \"r\":\n",
    "        r=np.dot(np.dot(_M(s),inv(np.diag(s))),np.transpose(R))\n",
    "        return r\n",
    "    if p is \"G\":\n",
    "        G=2*np.pi*np.dot(_N(s),inv(R))\n",
    "        return G\n",
    "    if p is \"G2\":\n",
    "        G=2*np.pi*np.dot(_N(s),inv(R))\n",
    "        G2=np.sum(np.transpose(G*G),axis=0) \n",
    "        return G2\n",
    "    else:\n",
    "        return \"Error: Passed an argument other than r, G or G2.\""
   ]
  },
  {
   "cell_type": "code",
   "execution_count": 10,
   "metadata": {
    "collapsed": false
   },
   "outputs": [],
   "source": [
    "\"\"\"REMEMBER I CHANGED THE NAME OF FUNCTION TO gen_r_G_G2 in real code.\"\"\"\n",
    "\n",
    "def test_gen_r_G_G2():\n",
    "    \"\"\" Tests weather _gen_r_G_G2 subroutine works                                                                                                                          \n",
    "    \"\"\"\n",
    "    assert np.allclose(_gen_r_G_G2([2,2,2],np.diag([2,2,2]),'r'),np.array([[ 0.,  0.,  0.],\n",
    "                                                                           [ 0.,  0.,  1.],\n",
    "                                                                           [ 0.,  1.,  0.],\n",
    "                                                                           [ 0.,  1.,  1.],\n",
    "                                                                           [ 1.,  0.,  0.],\n",
    "                                                                           [ 1.,  0.,  1.],\n",
    "                                                                           [ 1.,  1.,  0.],\n",
    "                                                                           [ 1.,  1.,  1.]]))\n",
    "    assert np.allclose(_gen_r_G_G2([2,2,2],np.diag([2,2,2]),'G'),np.array([[ 0.        ,  0.        ,  0.        ],\n",
    "                                                                           [ 0.        ,  0.        ,  3.14159265],\n",
    "                                                                           [ 0.        ,  3.14159265,  0.        ],\n",
    "                                                                           [ 0.        ,  3.14159265,  3.14159265],\n",
    "                                                                           [ 3.14159265,  0.        ,  0.        ],\n",
    "                                                                           [ 3.14159265,  0.        ,  3.14159265],\n",
    "                                                                           [ 3.14159265,  3.14159265,  0.        ],\n",
    "                                                                           [ 3.14159265,  3.14159265,  3.14159265]]))\n",
    "    assert np.allclose(_gen_r_G_G2([2,2,2],np.diag([2,2,2]),'G2'),np.array([  0.       ,   9.8696044,   9.8696044,  19.7392088,   9.8696044,\n",
    "                                                                              19.7392088,  19.7392088,  29.6088132]))"
   ]
  },
  {
   "cell_type": "code",
   "execution_count": 11,
   "metadata": {
    "collapsed": false
   },
   "outputs": [],
   "source": [
    "def gaussian(sig,coeff,x):\n",
    "    \"\"\" Defining Gaussian charge distribution at point x in 3D space.\n",
    "    Args:\n",
    "        inputs: \n",
    "            sig => sigmas for each Gaussian.\n",
    "            coeff => coefficients for each gaussian funtion.\n",
    "                Note: All the gaussians will be summed up.\n",
    "            x (np.array()): List of input points \n",
    "                Note: x in 3D space is x=Sqrt(a^2+b^2+c^2) where\n",
    "                {a,b,c} are the cartesian coordinates.\n",
    "            \n",
    "        Output: Charge distribution at points x. \n",
    "        \n",
    "    \"\"\"\n",
    "    g=lambda x,sigma: (np.exp(-(x**2)/(2*sigma**2)))/(2*np.pi*sigma**2)**(3./2)\n",
    "    n=lambda x: np.sum([coeff[i]*g(x,sig[i]) for i in range(len(sig))],axis=0)\n",
    "    if len(sig)!=len(coeff):\n",
    "        return \"Error: Length of 'sig' not equal to length of 'coeff'.\"\n",
    "    else:\n",
    "        return n(x)"
   ]
  },
  {
   "cell_type": "code",
   "execution_count": 12,
   "metadata": {
    "collapsed": false
   },
   "outputs": [],
   "source": [
    "def test_gaussian():\n",
    "    \"\"\" Tests the gaussian charge distribution routine in charge_dis.py                                                                                                     \n",
    "    \"\"\"\n",
    "    assert np.allclose(gaussian([0.75,0.5],[1,-1],np.linspace(0,1,10)),np.array([-0.35744565, -0.34669986, -0.31613924, -0.27038447, -0.21590651,\n",
    "       -0.15959883, -0.10743921, -0.06358218, -0.03003532, -0.00686962])) == True\n",
    "    assert np.allclose(gaussian([0.75,0.5,0.3],[1,-1,0.2],np.linspace(0,1,10)),np.array([ 0.11287757,  0.09244664,  0.04133802, -0.01668859, -0.05894094,\n",
    "       -0.07493042, -0.06762259, -0.04725793, -0.02420049, -0.00505139]))"
   ]
  },
  {
   "cell_type": "code",
   "execution_count": 13,
   "metadata": {
    "collapsed": false
   },
   "outputs": [],
   "source": [
    "def charge_dis(s,R,sig,coeff):\n",
    "    \"\"\"Generates the charge distribution at each sample point for the unit cell.\n",
    "        We change the midpoint of the unitcell to origin here.\n",
    "    \n",
    "    Args:\n",
    "        input:\n",
    "            R=[a,b,c] => Defines the lattice vectors. (a,b,c) are any +ve integers.\n",
    "            s=[a,b,c] => Defines the number of sample points along the\n",
    "                        lattice vectors.  (a,b,c) are any integers.\n",
    "    \"\"\"\n",
    "    mid = sum(R,axis=1)/2.\n",
    "    dr=np.sqrt(sum((_gen_r_G_G2(s,R,\"r\")-mid)**2,axis=1))\n",
    "    return gaussian(sig,coeff,dr)\n",
    "        "
   ]
  },
  {
   "cell_type": "code",
   "execution_count": 14,
   "metadata": {
    "collapsed": false
   },
   "outputs": [],
   "source": [
    "def test_charge_dis():\n",
    "    \"\"\" Tests the charge_dis subroutine in charge_dis.py                                                                                                                    \n",
    "    \"\"\"\n",
    "    assert np.allclose(charge_dis([2,2,2],np.diag([2,2,2]),[0.75,0.5],[1,-1]),np.array([ 0.00919842,  0.01613367,  0.01613367, -0.00686962,  0.01613367,\n",
    "      -0.00686962, -0.00686962, -0.35744565])) == True"
   ]
  },
  {
   "cell_type": "code",
   "execution_count": 15,
   "metadata": {
    "collapsed": false
   },
   "outputs": [],
   "source": [
    "def Ope(inp,R):\n",
    "    \"\"\"Outputs the overlap matrix. In our case here we are specific to plane wave basis.\n",
    "    Args:\n",
    "        input:\n",
    "            inp (numpy array): The overlap matrix operator acts on this input.\n",
    "            R=[a,b,c] => Defines the lattice vectors. (a,b,c) are any +ve integers.\n",
    "    \"\"\"\n",
    "    return np.linalg.det(R)*np.dot(np.identity(len(inp)),inp)   "
   ]
  },
  {
   "cell_type": "code",
   "execution_count": 16,
   "metadata": {
    "collapsed": false
   },
   "outputs": [],
   "source": [
    "def test_Ope():\n",
    "    \"\"\"Tests the Ope() subroutine in fourierBasis.py                                                                                                                        \n",
    "    \"\"\"\n",
    "\n",
    "    assert np.allclose(Ope([2,3,4,5],np.diag([2,2,2])),np.array([ 16.,  24.,  32.,  40.]))\n",
    "    assert np.allclose(Ope([1,2,3,4,5,5.5,6,3],np.diag([2,1,6])),np.array([ 12.,  24.,  36.,  48.,  60.,  66.,  72.,  36.]))"
   ]
  },
  {
   "cell_type": "code",
   "execution_count": 17,
   "metadata": {
    "collapsed": true
   },
   "outputs": [],
   "source": [
    "def Lope(inp,s,R):\n",
    "    \"\"\"Lope is the L operator as defined in Tomas arias Lecture.\n",
    "     Note:Works only for plane wave basis.\n",
    "    Args:\n",
    "        input:\n",
    "            inp (numpy array): The overlap matrix operator acts on this input.\n",
    "            s=[a,b,c] => Defines the number of sample points along the\n",
    "                        lattice vectors.  (a,b,c) are any integers.\n",
    "            R=[a,b,c] => Defines the lattice vectors. (a,b,c) are any +ve integers.\n",
    "    \"\"\"\n",
    "    if len(_gen_r_G_G2(s,R,\"G2\")) == len(inp):\n",
    "        return -np.linalg.det(R)*np.dot(np.diag(_gen_r_G_G2(s,R,\"G2\")),inp)\n",
    "    else:\n",
    "        return \"Error: Input vector size is not same as G2\""
   ]
  },
  {
   "cell_type": "code",
   "execution_count": 18,
   "metadata": {
    "collapsed": false
   },
   "outputs": [],
   "source": [
    "def test_Lope():\n",
    "    \"\"\"Tests the Lope() subroutine in fourierBasis.py                                                                                                                       \n",
    "                                                                                                                                                                            \n",
    "    Function: Lope(inp,s,R)                                                                                                                                                 \n",
    "                                                                                                                                                                            \n",
    "    input:                                                                                                                                                                  \n",
    "            inp (numpy array): The overlap matrix operator acts on this input.                                                                                              \n",
    "            s=[a,b,c] => Defines the number of sample points along the                                                                                                      \n",
    "                        lattice vectors.  (a,b,c) are any integers.                                                                                                         \n",
    "            R=[a,b,c] => Defines the lattice vectors. (a,b,c) are any +ve integers.                                                                                         \n",
    "    \"\"\"\n",
    "\n",
    "    assert Lope([2,3,4,5],[2,2,2],np.diag([2,2,2])) == 'Error: Input vector size is not same as G2'\n",
    "    assert np.allclose(Lope(_gen_r_G_G2([2,2,2],np.diag([2,2,2]),'G2'),[2,2,2],np.diag([2,2,2])),np.array([   -0.        ,  -779.27272827,  -779.27272827, -3117.09091309,\n",
    "       -779.27272827, -3117.09091309, -3117.09091309, -7013.45455445])) == True"
   ]
  },
  {
   "cell_type": "code",
   "execution_count": 19,
   "metadata": {
    "collapsed": false
   },
   "outputs": [],
   "source": [
    "def LinvOpe(inp,s,R):\n",
    "    \"\"\"LinvOpe is the inverse of L operator as defined in Tomas arias Lecture.\n",
    "     Note:Works only for plane wave basis.\n",
    "    Args:\n",
    "        input:\n",
    "            inp (numpy array): The overlap matrix operator acts on this input.\n",
    "            s=[a,b,c] => Defines the number of sample points along the\n",
    "                        lattice vectors.  (a,b,c) are any integers.\n",
    "            R=[a,b,c] => Defines the lattice vectors. (a,b,c) are any +ve integers.\n",
    "    \"\"\"\n",
    "    if len(_gen_r_G_G2(s,R,\"G2\")) == len(inp):\n",
    "        Lele=-np.linalg.det(R)*np.diag(_gen_r_G_G2(s,R,\"G2\"))\n",
    "        Lele[0][0]=1\n",
    "        Leleinv=inv(Lele)\n",
    "        Leleinv[0][0]=0\n",
    "        return np.dot(Leleinv,inp)\n",
    "    else:\n",
    "        return \"Error: Input vector size is not same as G2\""
   ]
  },
  {
   "cell_type": "code",
   "execution_count": 20,
   "metadata": {
    "collapsed": false
   },
   "outputs": [],
   "source": [
    "def test_LinvOpe():\n",
    "    \"\"\" Testing the LinvOpe operator in fourierBasis.py                                                                       \n",
    "                                                                                                                              \n",
    "    LinvOpe is the inverse of L operator as defined in Tomas arias Lecture.                                                   \n",
    "     Note:Works only for plane wave basis.                                                                                    \n",
    "    Args:                                                                                                                     \n",
    "        input:                                                                                                                \n",
    "            inp (numpy array): The overlap matrix operator acts on this input.                                                \n",
    "            s=[a,b,c] => Defines the number of sample points along the                                                        \n",
    "                        lattice vectors.  (a,b,c) are any integers.                                                           \n",
    "            R=[a,b,c] => Defines the lattice vectors. (a,b,c) are any +ve integers.                                           \n",
    "    \"\"\"\n",
    "    assert LinvOpe([2,3,4,5],[2,2,2],np.diag([2,2,2])) == 'Error: Input vector size is not same as G2'\n",
    "    assert np.allclose(LinvOpe(gen_r_G_G2([2,2,2],np.diag([2,2,2]),'G2'),[2,2,2],np.diag([2,2,2])),np.array([ 0.   , -0.125, \\\n",
    "-0.125, -0.125, -0.125, -0.125, -0.125, -0.125]))"
   ]
  },
  {
   "cell_type": "code",
   "execution_count": 21,
   "metadata": {
    "collapsed": false
   },
   "outputs": [],
   "source": [
    "def cI(inp,s,R,p=None):\n",
    "    \"\"\"cI is the fourier series expansion coeff Matrix. It is the forward transform matrix for the problem.\n",
    "        Note:Works only for plane wave basis.\n",
    "        Args:\n",
    "        input:\n",
    "            inp (numpy array): The overlap matrix operator acts on this input.\n",
    "            s=[a,b,c] => Defines the number of sample points along the\n",
    "                        lattice vectors.  (a,b,c) are any integers.\n",
    "            R=[a,b,c] => Defines the lattice vectors. (a,b,c) are any +ve integers.\n",
    "            p (default): Fast fourier transform. #Written with Wiley's code help.\n",
    "                p='s' => slow fourier transform.\n",
    "    \"\"\"\n",
    "    if p is None:\n",
    "        f=np.fft.fftn(inp.reshape(s,order=\"F\")).reshape(np.prod(s),order=\"F\")\n",
    "    elif p is \"s\": \n",
    "        f=np.dot(np.exp(1j*np.dot(_gen_r_G_G2(s,R,\"G\"),np.transpose(_gen_r_G_G2(s,R,\"r\")))),inp)\n",
    "    return f"
   ]
  },
  {
   "cell_type": "code",
   "execution_count": 22,
   "metadata": {
    "collapsed": false
   },
   "outputs": [],
   "source": [
    "def test_cI():\n",
    "    \"\"\" Testing the cI subroutine in fourierBasis.py                                                                                                                                                        \n",
    "                                                                                                                                                                                                            \n",
    "    Function: cI                                                                                                                                                                                            \n",
    "    cI is the fourier series expansion coeff Matrix. It is the forward transform matrix for the problem.                                                                                                    \n",
    "        Note:Works only for plane wave basis.                                                                                                                                                               \n",
    "        Args:                                                                                                                                                                                               \n",
    "        input:                                                                                                                                                                                              \n",
    "            inp (numpy array): The overlap matrix operator acts on this input.                                                                                                                              \n",
    "            s=[a,b,c] => Defines the number of sample points along the                                                                                                                                      \n",
    "                        lattice vectors.  (a,b,c) are any integers.                                                                                                                                         \n",
    "            R=[a,b,c] => Defines the lattice vectors. (a,b,c) are any +ve integers.                                                                                                                         \n",
    "            p (default): Fast fourier transform. #Written with Wiley's code help.                                                                                                                           \n",
    "                p='s' => slow fourier transform.                                                                                                                                                            \n",
    "    \"\"\"\n",
    "\n",
    "    assert np.allclose(cI(_gen_r_G_G2([2,2,2],np.diag([3,3,3]),'r').T[1],[2,2,2],np.diag([3,3,3])),np.array([ 6.+0.j,  0.+0.j, -6.+0.j,  0.+0.j,  0.+0.j,  0.+0.j,  0.+0.j,0.+0.j]))\n",
    "    assert np.allclose(cI(_gen_r_G_G2([2,2,2],np.diag([3,3,3]),'r').T[1],[2,2,2],np.diag([3,3,3]),'s'),np.array([ 6. +0.00000000e+00j,  0. +3.67394040e-16j, -6. +7.34788079e-16j,\n",
    "                                                                    0. -3.67394040e-16j,  0. +3.67394040e-16j,  0. -2.46519033e-32j,0. -3.67394040e-16j,  0. -2.46519033e-32j]))"
   ]
  },
  {
   "cell_type": "code",
   "execution_count": 23,
   "metadata": {
    "collapsed": false
   },
   "outputs": [],
   "source": [
    "def cJ(inp,s,R,p=None):\n",
    "    \"\"\"cJ is the fourier series expansion coeff Matrix. You can get the fast fourier transform too.\n",
    "      Note:Works only for plane wave basis.\n",
    "    Args:\n",
    "        input:\n",
    "            inp (numpy array): The overlap matrix operator acts on this input.\n",
    "            s=[a,b,c] => Defines the number of sample points along the\n",
    "                        lattice vectors.  (a,b,c) are any integers.\n",
    "            R=[a,b,c] => Defines the lattice vectors. (a,b,c) are any +ve integers.\n",
    "    \"\"\"\n",
    "    if p is None:\n",
    "        f=np.fft.ifftn(inp.reshape(s,order=\"F\")).reshape(np.prod(s),order=\"F\")\n",
    "        return f\n",
    "    elif p is \"s\":\n",
    "        f=np.exp(1j*np.dot(_gen_r_G_G2(s,R,\"G\"),np.transpose(_gen_r_G_G2(s,R,\"r\"))))\n",
    "        return (1./np.prod(s))*np.dot(np.transpose(f.conjugate()),inp)"
   ]
  },
  {
   "cell_type": "code",
   "execution_count": 24,
   "metadata": {
    "collapsed": false
   },
   "outputs": [],
   "source": [
    "def test_cJ():\n",
    "    \"\"\"                                                                                                                                                                                                     \n",
    "    This funtion tests the cJ funtion in fourierBasis.py                                                                                                                                                    \n",
    "                                                                                                                                                                                                            \n",
    "    Funtion: cJ                                                                                                                                                                                             \n",
    "    cJ is the fourier series expansion coeff Matrix. You can get the fast fourier transform too.                                                                                                            \n",
    "      Note:Works only for plane wave basis.                                                                                                                                                                 \n",
    "    Args:                                                                                                                                                                                                   \n",
    "        input:                                                                                                                                                                                              \n",
    "            inp (numpy array): The overlap matrix operator acts on this input.                                                                                                                              \n",
    "            s=[a,b,c] => Defines the number of sample points along the                                                                                                                                      \n",
    "                        lattice vectors.  (a,b,c) are any integers.                                                                                                                                         \n",
    "            R=[a,b,c] => Defines the lattice vectors. (a,b,c) are any +ve integers.                                                                                                                         \n",
    "    \"\"\"\n",
    "\n",
    "    assert np.allclose(cJ(_gen_r_G_G2([2,2,2],np.diag([3,3,3]),'r').T[1],[2,2,2],np.diag([3,3,3])),np.array([ 0.75+0.j,  0.00+0.j, -0.75+0.j,  0.00+0.j,  0.00+0.j,  0.00+0.j,0.00+0.j,  0.00+0.j]))\n",
    "    assert np.allclose(cJ(_gen_r_G_G2([2,2,2],np.diag([3,3,3]),'r').T[1],[2,2,2],np.diag([3,3,3]),'s'),np.array([ 0.75 +0.00000000e+00j,  0.00 -4.59242550e-17j,\n",
    "                                                                                                                  -0.75 -9.18485099e-17j,  0.00 +4.59242550e-17j,\n",
    "                                                                                                                  0.00 -4.59242550e-17j,  0.00 +3.08148791e-33j,\n",
    "                                                                                                                  0.00 +4.59242550e-17j,  0.00 +6.16297582e-33j]))"
   ]
  },
  {
   "cell_type": "code",
   "execution_count": 25,
   "metadata": {
    "collapsed": true
   },
   "outputs": [],
   "source": [
    "def phi(inp,s,R):\n",
    "    \"\"\"Poisson solver in a single line of code.\"\"\"\n",
    "    return cI(LinvOpe(-4.0*np.pi*Ope(cJ(inp,s,R),R),s,R),s,R)"
   ]
  },
  {
   "cell_type": "code",
   "execution_count": 26,
   "metadata": {
    "collapsed": false
   },
   "outputs": [],
   "source": [
    "def test_phi():\n",
    "    \"\"\"                                                                                                                                                                                                     \n",
    "     Tests the oneline poisson solver funtion.                                                                                                                                                              \n",
    "                                                                                                                                                                                                            \n",
    "    Poisson solver in a single line of code.\"\"\"\n",
    "\n",
    "    assert np.allclose(phi(charge_dis([2,2,2],np.diag([2,2,2]),[0.75,0.5],[1,-1]),[2,2,2],np.diag([2,2,2])),np.array([ 0.11648337+0.j,  0.07467416+0.j,  0.07467416+0.j, -0.01777448+0.j,\n",
    "    0.07467416+0.j, -0.01777448+0.j, -0.01777448+0.j, -0.28718243+0.j]))"
   ]
  },
  {
   "cell_type": "code",
   "execution_count": 27,
   "metadata": {
    "collapsed": false
   },
   "outputs": [
    {
     "data": {
      "text/plain": [
       "0.055142527694733337"
      ]
     },
     "execution_count": 27,
     "metadata": {},
     "output_type": "execute_result"
    }
   ],
   "source": [
    "Uanalytic=((1/sig[0] + 1/sig[1])/2 -np.sqrt(2)/np.sqrt(sig[0]**2+sig[1]**2))/np.sqrt(np.pi)\n",
    "Uanalytic"
   ]
  },
  {
   "cell_type": "code",
   "execution_count": 28,
   "metadata": {
    "collapsed": false
   },
   "outputs": [
    {
     "data": {
      "text/plain": [
       "0.11031018403072157"
      ]
     },
     "execution_count": 28,
     "metadata": {},
     "output_type": "execute_result"
    }
   ],
   "source": [
    "Unumerical=0.5*np.real(np.dot(np.conjugate(cJ(np.real(phi(charge_dis(s,R,sig,coeff),s,R)),s,R)),Ope(cJ(charge_dis(s,R,sig,coeff),s,R),R)))\n",
    "Unumerical"
   ]
  },
  {
   "cell_type": "code",
   "execution_count": 29,
   "metadata": {
    "collapsed": true
   },
   "outputs": [],
   "source": [
    "#################code ends ;"
   ]
  },
  {
   "cell_type": "code",
   "execution_count": 30,
   "metadata": {
    "collapsed": false
   },
   "outputs": [
    {
     "name": "stdout",
     "output_type": "stream",
     "text": [
      "--- 0.00365304946899 seconds ---\n"
     ]
    }
   ],
   "source": [
    "# Just to check how long the code takes to run.\n",
    "import time\n",
    "start_time = time.time()\n",
    "Unumerical=0.5*np.real(np.dot(np.conjugate(cJ(np.real(phi(charge_dis(s,R,sig,coeff),s,R)),s,R)),Ope(cJ(charge_dis(s,R,sig,coeff),s,R),R)))\n",
    "print(\"--- %s seconds ---\" % (time.time() - start_time))"
   ]
  },
  {
   "cell_type": "code",
   "execution_count": 31,
   "metadata": {
    "collapsed": false
   },
   "outputs": [],
   "source": [
    "def cIm(inp,s,R,p=None):\n",
    "    \"\"\"Difference between cI and cI2: Input is a matrix instead of an array or coloumn vector. \n",
    "        \n",
    "        cIm is the fourier series expansion coeff Matrix. It is the forward transform matrix for the problem.\n",
    "        Note:Works only for plane wave basis. \n",
    "        Args:\n",
    "        input:\n",
    "            inp (numpy matrix array): The overlap matrix operator acts on this input.\n",
    "            s=[a,b,c] => Defines the number of sample points along the\n",
    "                        lattice vectors.  (a,b,c) are any integers.\n",
    "            R=[a,b,c] => Defines the lattice vectors. (a,b,c) are any +ve integers.\n",
    "            p (default): Fast fourier transform. #Written with Wiley's code help.\n",
    "                p='s' => slow fourier transform.\n",
    "                \n",
    "        Example: cIm(_gen_r_G_G2([2,2,2],np.diag([3,3,3]),'r').T,[2,2,2],np.diag([3,3,3]))\n",
    "            \n",
    "    \"\"\"\n",
    "    f=[]\n",
    "    inpp=[]\n",
    "    inpp=np.array([inp.tolist()])\n",
    "    f= [cI(inpp[i],s,R) for i in range(len(inpp))]\n",
    "    return f"
   ]
  },
  {
   "cell_type": "code",
   "execution_count": 38,
   "metadata": {
    "collapsed": false
   },
   "outputs": [
    {
     "data": {
      "text/plain": [
       "2"
      ]
     },
     "execution_count": 38,
     "metadata": {},
     "output_type": "execute_result"
    }
   ],
   "source": [
    "x1=charge_dis(s,R,sig,coeff).tolist()\n",
    "x2=charge_dis(s,R,sig,coeff).tolist()\n",
    "e=np.array(np.array([x2,x1]).tolist())\n",
    "len(np.array(e.tolist()))"
   ]
  },
  {
   "cell_type": "code",
   "execution_count": null,
   "metadata": {
    "collapsed": true
   },
   "outputs": [],
   "source": []
  }
 ],
 "metadata": {
  "kernelspec": {
   "display_name": "Python 2",
   "language": "python",
   "name": "python2"
  },
  "language_info": {
   "codemirror_mode": {
    "name": "ipython",
    "version": 2
   },
   "file_extension": ".py",
   "mimetype": "text/x-python",
   "name": "python",
   "nbconvert_exporter": "python",
   "pygments_lexer": "ipython2",
   "version": "2.7.12"
  }
 },
 "nbformat": 4,
 "nbformat_minor": 1
}
