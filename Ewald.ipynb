{
 "cells": [
  {
   "cell_type": "code",
   "execution_count": 1,
   "metadata": {
    "collapsed": false
   },
   "outputs": [],
   "source": [
    "####Implementing the one line poisson solver.\n",
    "\"\"\"This notebook has a code written in Python2.\n",
    "The code solves the poisson's equation numerically with in a unit cell\n",
    "using the method described in Tomas Arias lecture.\"\"\";"
   ]
  },
  {
   "cell_type": "code",
   "execution_count": 3,
   "metadata": {
    "collapsed": false
   },
   "outputs": [
    {
     "name": "stdout",
     "output_type": "stream",
     "text": [
      "Populating the interactive namespace from numpy and matplotlib\n"
     ]
    }
   ],
   "source": [
    "\"\"\"Importing all the necessary funtions required for this code\"\"\"\n",
    "# numpy for math calculations\n",
    "import numpy as np  \n",
    "# For pplotting or visualising \n",
    "import matplotlib.pylab as pylab \n",
    "%pylab notebook\n",
    "pylab.rcParams['figure.figsize'] = (10, 6)\n",
    "import matplotlib.pyplot as plt\n",
    "# For performing linear algebra operations using matrices\n",
    "from numpy import linalg as LA\n",
    "from numpy.linalg import inv\n",
    "import operator\n",
    "# for Generating tuples list.\n",
    "import itertools "
   ]
  },
  {
   "cell_type": "code",
   "execution_count": 28,
   "metadata": {
    "collapsed": true
   },
   "outputs": [],
   "source": [
    "### Creating the setup.m file. All these inputs are setup.\n",
    "\n",
    "\"\"\"Creating the Cell and Geometry\n",
    "\n",
    "    Defining the variables \n",
    "    \n",
    "    R=[a,b,c] => Defines the lattice vectors. (a,b,c) are any +ve integers.\n",
    "    s=[a,b,c] => Defines the number of sample points along the\n",
    "                    lattice vectors.  (a,b,c) are any integers.\n",
    "    sig=[a,b,c,...] => Defining sigma for each gaussian funtion to be summed up.\n",
    "    coeff=array of {+/-}coefficients. The factor is used for gaussian.  \n",
    "         Gaussian => coeff[0].Gaussian(sig[0])+coeff[1].Gaussian(sig[1])+....so on.\n",
    "\"\"\"\n",
    "#Inputs for Geometry\n",
    "s = [20,25,30]\n",
    "R= np.diag([6,6,6])\n",
    "#Input for Charge distribution \n",
    "sig=[0.75,0.5]\n",
    "coeff=[-1,1]"
   ]
  },
  {
   "cell_type": "code",
   "execution_count": 5,
   "metadata": {
    "collapsed": true
   },
   "outputs": [],
   "source": [
    "def _M(s):\n",
    "    \"\"\"Defining the 'M' matrix.\n",
    "    'M' has coordinates in matrix form for each sample point in real space.\n",
    "    We use M to get list of real space sample  points 'r'\n",
    "    r=M(Diag(S))^(-1)R^(Transpose)\n",
    "    \n",
    "     Args:\n",
    "        input:\n",
    "            s => number of sample points along the lattice vectors.\n",
    "        output: \n",
    "            M matrix. \n",
    "    \"\"\"\n",
    "    M = tuple(itertools.product(*[range(0,s[0]),range(0,s[1]),range(0,s[2])]))\n",
    "    M=[list(i) for i in M]\n",
    "    return M"
   ]
  },
  {
   "cell_type": "code",
   "execution_count": 6,
   "metadata": {
    "collapsed": true
   },
   "outputs": [],
   "source": [
    "\n",
    "def _N(s):\n",
    "    \"\"\"Defining the 'N' matrix.\n",
    "    'N' has coordinates in matrix form for each sample point in reciprocal\n",
    "    space.\n",
    "    We use N to get list of reciprocal lattice vectos 'G'\n",
    "    G= 2*pi*N*R^(inverse)\n",
    "    \n",
    "    Args:\n",
    "        input:\n",
    "            s => number of sample points along the lattice vectors.\n",
    "        output: \n",
    "            N matrix. \n",
    "    \"\"\"\n",
    "    M=_M(s)\n",
    "    m1=np.transpose(M)[0]\n",
    "    m2=np.transpose(M)[1]\n",
    "    m3=np.transpose(M)[2]\n",
    "    n1=[ m1[i]-s[0] if m1[i] > s[0]/2 else m1[i] for i in range(len(m1)) ]\n",
    "    n2=[ m2[i]-s[1] if m2[i] > s[1]/2 else m2[i] for i in range(len(m2)) ]\n",
    "    n3=[ m3[i]-s[2] if m3[i] > s[2]/2 else m3[i] for i in range(len(m3)) ]\n",
    "    N=np.transpose([n1,n2,n3])\n",
    "    return N"
   ]
  },
  {
   "cell_type": "code",
   "execution_count": 7,
   "metadata": {
    "collapsed": false
   },
   "outputs": [],
   "source": [
    "def _gen_r_G_G2(s,R,p=None):\n",
    "    \"\"\"Generates r, G and G2 matrices.\n",
    "    \n",
    "    Args: input:\n",
    "           s => number of sample points along the lattice vectors. \n",
    "           R=[a,b,c] => Defines the lattice vectors. (a,b,c) are any +ve integers.\n",
    "           p = 'r', 'G' or 'G2'(square of G matrix) \n",
    "           \n",
    "          Output:\n",
    "           p='r' => Outputs r matrix.\n",
    "           p='G' => Outputs G matrix.\n",
    "           p='2' => Outputs G2 matrix.\n",
    "       \n",
    "       Example: s = [15,15,15]\n",
    "                R= np.diag([6,6,6])\n",
    "                _gen_r_G_G2(s,R,\"r\")\n",
    "    \"\"\"\n",
    "    if p is None:\n",
    "        return \"Please pass a third argument asking for 'r', 'G' or 'G2'.\"\n",
    "    if p is \"r\":\n",
    "        r=np.dot(np.dot(_M(s),inv(np.diag(s))),np.transpose(R))\n",
    "        return r\n",
    "    if p is \"G\":\n",
    "        G=2*np.pi*np.dot(_N(s),inv(R))\n",
    "        return G\n",
    "    if p is \"G2\":\n",
    "        G=2*np.pi*np.dot(_N(s),inv(R))\n",
    "        G2=np.sum(np.transpose(G*G),axis=0) \n",
    "        return G2\n",
    "    else:\n",
    "        return \"Error: Passed an argument other than r, G or G2.\""
   ]
  },
  {
   "cell_type": "code",
   "execution_count": 8,
   "metadata": {
    "collapsed": false
   },
   "outputs": [],
   "source": [
    "def gaussian(sig,coeff,x):\n",
    "    \"\"\" Defining Gaussian charge distribution at point x in 3D space.\n",
    "    Args:\n",
    "        inputs: \n",
    "            sig => sigmas for each Gaussian.\n",
    "            coeff => coefficients for each gaussian funtion.\n",
    "                Note: All the gaussians will be summed up.\n",
    "            x (np.array()): List of input points \n",
    "                Note: x in 3D space is x=Sqrt(a^2+b^2+c^2) where\n",
    "                {a,b,c} are the cartesian coordinates.\n",
    "            \n",
    "        Output: Charge distribution at points x. \n",
    "        \n",
    "    \"\"\"\n",
    "    g=lambda x,sigma: (np.exp(-(x**2)/(2*sigma**2)))/(2*np.pi*sigma**2)**(3./2)\n",
    "    n=lambda x: np.sum([coeff[i]*g(x,sig[i]) for i in range(len(sig))],axis=0)\n",
    "    if len(sig)!=len(coeff):\n",
    "        return \"Error: Length of 'sig' not equal to length of 'coeff'.\"\n",
    "    else:\n",
    "        return n(x)"
   ]
  },
  {
   "cell_type": "code",
   "execution_count": 9,
   "metadata": {
    "collapsed": false
   },
   "outputs": [],
   "source": [
    "def charge_dis(s,R,sig,coeff):\n",
    "    \"\"\"Generates the charge distribution at each sample point for the unit cell.\n",
    "        We change the midpoint of the unitcell to origin here.\n",
    "    \n",
    "    Args:\n",
    "        input:\n",
    "            R=[a,b,c] => Defines the lattice vectors. (a,b,c) are any +ve integers.\n",
    "            s=[a,b,c] => Defines the number of sample points along the\n",
    "                        lattice vectors.  (a,b,c) are any integers.\n",
    "    \"\"\"\n",
    "    mid = sum(R,axis=1)/2.\n",
    "    dr=np.sqrt(sum((_gen_r_G_G2(s,R,\"r\")-mid)**2,axis=1))\n",
    "    return gaussian(sig,coeff,dr)\n",
    "        "
   ]
  },
  {
   "cell_type": "code",
   "execution_count": 10,
   "metadata": {
    "collapsed": false
   },
   "outputs": [],
   "source": [
    "def Ope(inp,R):\n",
    "    \"\"\"Outputs the overlap matrix. In our case here we are specific to plane wave basis.\n",
    "    Args:\n",
    "        input:\n",
    "            inp (numpy array): The overlap matrix operator acts on this input.\n",
    "            R=[a,b,c] => Defines the lattice vectors. (a,b,c) are any +ve integers.\n",
    "    \"\"\"\n",
    "    return np.linalg.det(R)*np.dot(np.identity(len(inp)),inp)   "
   ]
  },
  {
   "cell_type": "code",
   "execution_count": 11,
   "metadata": {
    "collapsed": true
   },
   "outputs": [],
   "source": [
    "def Lope(inp,s,R):\n",
    "    \"\"\"Lope is the L operator as defined in Tomas arias Lecture.\n",
    "     Note:Works only for plane wave basis.\n",
    "    Args:\n",
    "        input:\n",
    "            inp (numpy array): The overlap matrix operator acts on this input.\n",
    "            s=[a,b,c] => Defines the number of sample points along the\n",
    "                        lattice vectors.  (a,b,c) are any integers.\n",
    "            R=[a,b,c] => Defines the lattice vectors. (a,b,c) are any +ve integers.\n",
    "    \"\"\"\n",
    "    if len(_gen_r_G_G2(s,R,\"G2\")) == len(inp):\n",
    "        return -np.linalg.det(R)*np.dot(np.diag(_gen_r_G_G2(s,R,\"G2\")),inp)\n",
    "    else:\n",
    "        return \"Error: Input vector size is not same as G2\""
   ]
  },
  {
   "cell_type": "code",
   "execution_count": 12,
   "metadata": {
    "collapsed": false
   },
   "outputs": [],
   "source": [
    "def LinvOpe(inp,s,R):\n",
    "    \"\"\"LinvOpe is the inverse of L operator as defined in Tomas arias Lecture.\n",
    "     Note:Works only for plane wave basis.\n",
    "    Args:\n",
    "        input:\n",
    "            inp (numpy array): The overlap matrix operator acts on this input.\n",
    "            s=[a,b,c] => Defines the number of sample points along the\n",
    "                        lattice vectors.  (a,b,c) are any integers.\n",
    "            R=[a,b,c] => Defines the lattice vectors. (a,b,c) are any +ve integers.\n",
    "    \"\"\"\n",
    "    if len(_gen_r_G_G2(s,R,\"G2\")) == len(inp):\n",
    "        Lele=-np.linalg.det(R)*np.diag(_gen_r_G_G2(s,R,\"G2\"))\n",
    "        Lele[0][0]=1\n",
    "        Leleinv=inv(Lele)\n",
    "        Leleinv[0][0]=0\n",
    "        return np.dot(Leleinv,inp)\n",
    "    else:\n",
    "        return \"Error: Input vector size is not same as G2\""
   ]
  },
  {
   "cell_type": "code",
   "execution_count": 13,
   "metadata": {
    "collapsed": false
   },
   "outputs": [],
   "source": [
    "def cI(inp,s,R,p=None):\n",
    "    \"\"\"cI is the fourier series expansion coeff Matrix. It is the forward transform matrix for the problem.\n",
    "        Note:Works only for plane wave basis.\n",
    "        Args:\n",
    "        input:\n",
    "            inp (numpy array): The overlap matrix operator acts on this input.\n",
    "            s=[a,b,c] => Defines the number of sample points along the\n",
    "                        lattice vectors.  (a,b,c) are any integers.\n",
    "            R=[a,b,c] => Defines the lattice vectors. (a,b,c) are any +ve integers.\n",
    "            p (default): Fast fourier transform. #Written with Wiley's code help.\n",
    "                p='s' => slow fourier transform.\n",
    "    \"\"\"\n",
    "    if p is None:\n",
    "        f=np.fft.fftn(inp.reshape(s,order=\"F\")).reshape(np.prod(s),order=\"F\")\n",
    "    elif p is \"s\": \n",
    "        f=np.dot(np.exp(1j*np.dot(_gen_r_G_G2(s,R,\"G\"),np.transpose(_gen_r_G_G2(s,R,\"r\")))),inp)\n",
    "    return f"
   ]
  },
  {
   "cell_type": "code",
   "execution_count": 14,
   "metadata": {
    "collapsed": false
   },
   "outputs": [],
   "source": [
    "def cJ(inp,s,R,p=None):\n",
    "    \"\"\"cI is the fourier series expansion coeff Matrix. You can get the fast fourier transform too.\n",
    "      Note:Works only for plane wave basis.\n",
    "    Args:\n",
    "        input:\n",
    "            inp (numpy array): The overlap matrix operator acts on this input.\n",
    "            s=[a,b,c] => Defines the number of sample points along the\n",
    "                        lattice vectors.  (a,b,c) are any integers.\n",
    "            R=[a,b,c] => Defines the lattice vectors. (a,b,c) are any +ve integers.\n",
    "    \"\"\"\n",
    "    if p is None:\n",
    "        f=np.fft.ifftn(inp.reshape(s,order=\"F\")).reshape(np.prod(s),order=\"F\")\n",
    "        return f\n",
    "    elif p is \"s\":\n",
    "        f=np.exp(-1j*np.dot(_gen_r_G_G2(s,R,\"G\"),np.transpose(_gen_r_G_G2(s,R,\"r\"))))\n",
    "        return (1./np.prod(s))*np.dot(np.transpose(f.conjugate()),inp)"
   ]
  },
  {
   "cell_type": "code",
   "execution_count": 15,
   "metadata": {
    "collapsed": true
   },
   "outputs": [],
   "source": [
    "def phi(inp,s,R):\n",
    "    \"\"\"Poisson solver in a single line of code.\"\"\"\n",
    "    return cI(LinvOpe(-4.0*np.pi*Ope(cJ(inp,s,R),R),s,R),s,R)"
   ]
  },
  {
   "cell_type": "code",
   "execution_count": 16,
   "metadata": {
    "collapsed": false
   },
   "outputs": [
    {
     "data": {
      "text/plain": [
       "0.055142527694733337"
      ]
     },
     "execution_count": 16,
     "metadata": {},
     "output_type": "execute_result"
    }
   ],
   "source": [
    "Uanalytic=((1/sig[0] + 1/sig[1])/2 -np.sqrt(2)/np.sqrt(sig[0]**2+sig[1]**2))/np.sqrt(np.pi)\n",
    "Uanalytic"
   ]
  },
  {
   "cell_type": "code",
   "execution_count": 17,
   "metadata": {
    "collapsed": false
   },
   "outputs": [
    {
     "data": {
      "text/plain": [
       "0.055140128732007555"
      ]
     },
     "execution_count": 17,
     "metadata": {},
     "output_type": "execute_result"
    }
   ],
   "source": [
    "Unumerical=0.5*np.real(np.dot(np.conjugate(cJ(np.real(phi(charge_dis(s,R,sig,coeff),s,R)),s,R,\"s\")),Ope(cJ(charge_dis(s,R,sig,coeff),s,R,\"s\"),R)))\n",
    "Unumerical"
   ]
  },
  {
   "cell_type": "code",
   "execution_count": 17,
   "metadata": {
    "collapsed": true
   },
   "outputs": [],
   "source": [
    "#################code ends ;"
   ]
  },
  {
   "cell_type": "code",
   "execution_count": 18,
   "metadata": {
    "collapsed": false
   },
   "outputs": [
    {
     "name": "stdout",
     "output_type": "stream",
     "text": [
      "--- 1.79489994049 seconds ---\n"
     ]
    }
   ],
   "source": [
    "# Just to check how long the code takes to run.\n",
    "import time\n",
    "start_time = time.time()\n",
    "Unumerical=0.5*np.real(np.dot(np.conjugate(cJ(np.real(phi(charge_dis(s,R,sig,coeff),s,R)),s,R)),Ope(cJ(charge_dis(s,R,sig,coeff),s,R),R)))\n",
    "print(\"--- %s seconds ---\" % (time.time() - start_time))"
   ]
  },
  {
   "cell_type": "code",
   "execution_count": 19,
   "metadata": {
    "collapsed": true
   },
   "outputs": [],
   "source": [
    "###Ewald energy Calculator;"
   ]
  },
  {
   "cell_type": "code",
   "execution_count": 29,
   "metadata": {
    "collapsed": false
   },
   "outputs": [],
   "source": [
    "## Additions to the setup.m file. \n",
    "\"\"\"Place to put the location of the ionic cores.\n",
    "stored in a nx3 Matrix. The charges are called Z.\n",
    "\"\"\"\n",
    "\n",
    "# Defining atomic locations and nuclear charge.\n",
    "\"\"\"Two protons at a distance of 1.75 Bohr. H2 molecule.\"\"\"\n",
    "X=np.array([[0,0,0],[1.75,0,0]])\n",
    "Z=1"
   ]
  },
  {
   "cell_type": "code",
   "execution_count": 30,
   "metadata": {
    "collapsed": true
   },
   "outputs": [],
   "source": [
    "# Defining the structure factor.\n",
    "\n",
    "#Note:In paper he said sum(#,2) => in matlab equivalet to python axis=1\n",
    "\n",
    "def _sf(s,R,X):\n",
    "    return np.sum(np.exp(1j*np.dot(_gen_r_G_G2(s,R,\"G\"),np.transpose(X))),axis=1)"
   ]
  },
  {
   "cell_type": "code",
   "execution_count": 31,
   "metadata": {
    "collapsed": false
   },
   "outputs": [],
   "source": [
    "# Changing the width of Gaussian. We have only one Gaussian with width 0.25.\n",
    "sig=[0.25]\n",
    "coeff=[1]"
   ]
  },
  {
   "cell_type": "code",
   "execution_count": 32,
   "metadata": {
    "collapsed": false
   },
   "outputs": [],
   "source": [
    "# As the norm of Gaussian should be Z instead of unity. I'm redifining the funtion.\n",
    "\n",
    "\n",
    "\n",
    "def gaussian(sig,coeff,Z,s,R,X):\n",
    "    \"\"\" Defining Gaussian charge distribution at point x in 3D space.\n",
    "    Args:\n",
    "        inputs: \n",
    "            sig => sigmas for each Gaussian.\n",
    "            coeff => coefficients for each gaussian funtion.\n",
    "                Note: All the gaussians will be summed up.\n",
    "            x (np.array()): List of input points \n",
    "                Note: x in 3D space is x=Sqrt(a^2+b^2+c^2) where\n",
    "                {a,b,c} are the cartesian coordinates.\n",
    "            z => Charge of ions.\n",
    "            \n",
    "            #Changes: Added new input Z. So the norm is now Z.\n",
    "                      Evaluation of total charge.\n",
    "            \n",
    "        Output: Charge distribution at points x. \n",
    "        \n",
    "    \"\"\"\n",
    "    g=lambda x,sigma: Z*(np.exp(-(x**2)/(2*sigma**2)))/(2*np.pi*sigma**2)**(1./2) # Changed 3./2 to 1./2\n",
    "    \n",
    "    mid = sum(R,axis=1)/2.\n",
    "    dr=np.sqrt(sum((_gen_r_G_G2(s,R,\"r\")-mid)**2,axis=1))\n",
    "    \n",
    "    g1=g(np.array([dr[i] for i in range(len(dr))]),np.array(sig))\n",
    "    n=np.real(cI(np.prod([cJ(g1,s,R),_sf(s,R,X)],axis=0),s,R))\n",
    "    if len(sig)!=len(coeff):\n",
    "        return \"Error: Length of 'sig' not equal to length of 'coeff'.\"\n",
    "    else:\n",
    "        return n"
   ]
  },
  {
   "cell_type": "code",
   "execution_count": 33,
   "metadata": {
    "collapsed": false
   },
   "outputs": [
    {
     "data": {
      "text/plain": [
       "array([[ 3.  ,  3.  ,  3.  ],\n",
       "       [ 4.75,  3.  ,  3.  ]])"
      ]
     },
     "execution_count": 33,
     "metadata": {},
     "output_type": "execute_result"
    }
   ],
   "source": [
    "Y=X+[3,3,3]\n",
    "Y"
   ]
  },
  {
   "cell_type": "code",
   "execution_count": 34,
   "metadata": {
    "collapsed": false
   },
   "outputs": [],
   "source": [
    "k=gaussian(sig,coeff,Z,s,R,Y)\n",
    "t=gaussian(sig,coeff,Z,s,R,X)\n",
    "#k.real[abs(k.real) < 10e-6] = 0.0"
   ]
  },
  {
   "cell_type": "code",
   "execution_count": 35,
   "metadata": {
    "collapsed": false
   },
   "outputs": [
    {
     "data": {
      "text/plain": [
       "2.2567583341910251"
      ]
     },
     "execution_count": 35,
     "metadata": {},
     "output_type": "execute_result"
    }
   ],
   "source": [
    "Uself=Z**2/(2*np.sqrt(np.pi))*(1/sig[0])*len(X)\n",
    "Uself"
   ]
  },
  {
   "cell_type": "code",
   "execution_count": 25,
   "metadata": {
    "collapsed": false
   },
   "outputs": [
    {
     "data": {
      "text/plain": [
       "0.28656490534959411"
      ]
     },
     "execution_count": 25,
     "metadata": {},
     "output_type": "execute_result"
    }
   ],
   "source": [
    "Unumerical=0.5*np.real(np.dot(np.conjugate(cJ(np.real(phi(t,s,R)),s,R)),Ope(cJ(t,s,R),R)))\n",
    "Unumerical"
   ]
  },
  {
   "cell_type": "code",
   "execution_count": 36,
   "metadata": {
    "collapsed": false
   },
   "outputs": [
    {
     "data": {
      "text/plain": [
       "0.017879942593415472"
      ]
     },
     "execution_count": 36,
     "metadata": {},
     "output_type": "execute_result"
    }
   ],
   "source": [
    "Unumerical=0.5*np.real(np.dot(np.conjugate(cJ(np.real(phi(k,s,R)),s,R)),Ope(cJ(k,s,R),R)))\n",
    "Unumerical"
   ]
  },
  {
   "cell_type": "code",
   "execution_count": 27,
   "metadata": {
    "collapsed": false
   },
   "outputs": [
    {
     "data": {
      "text/plain": [
       "-1.9701934288414309"
      ]
     },
     "execution_count": 27,
     "metadata": {},
     "output_type": "execute_result"
    }
   ],
   "source": [
    "Unumerical-Uself"
   ]
  },
  {
   "cell_type": "code",
   "execution_count": 4,
   "metadata": {
    "collapsed": true
   },
   "outputs": [],
   "source": [
    "# Working on the Survey paper.\n",
    "\n",
    "from math import erf, erfc, sqrt\n",
    "import numpy as np\n",
    "from itertools import product\n",
    "from math import pi\n",
    "from cmath import exp"
   ]
  },
  {
   "cell_type": "code",
   "execution_count": 8,
   "metadata": {
    "collapsed": true
   },
   "outputs": [],
   "source": [
    "def U_r(qi,ri,R,a,n):\n",
    "    \"\"\"\n",
    "        Args: qi => list of all charges.\n",
    "              ri => position vectors\n",
    "              R  => vell vectors to find volume\n",
    "              a  => alpha parameter.\n",
    "              n  => number of terms in sum.\n",
    "              \n",
    "        Output: Gives the U^r term in the Survey paper.\n",
    "    \"\"\"\n",
    "    result = 0\n",
    "    neighbs = np.array([np.array(i) for i in list(product(range(-n,n+1),repeat=3))])\n",
    "    neighbs = np.dot(R,neighbs.T).T\n",
    "    count = 0\n",
    "    for n_L in neighbs:\n",
    "        for a_i in range(len(qi)):\n",
    "            for a_j in range(len(qi)):\n",
    "                if np.all(n_L == 0) and (a_i != a_j):\n",
    "                    count += 1\n",
    "                    rijn = np.linalg.norm(ri[a_i]-ri[a_j])\n",
    "                    result += qi[a_i]*qi[a_j]*erfc(a *rijn)/rijn\n",
    "                elif np.any(n_L != 0): \n",
    "                    count += 1\n",
    "                    rijn = np.linalg.norm(rs[a_i]-rs[a_j]+n_L)\n",
    "                    result += qi[a_i]*qi[a_j]*erfc(a *rijn)/rijn\n",
    "                    \n",
    "    return result/2. "
   ]
  },
  {
   "cell_type": "code",
   "execution_count": 9,
   "metadata": {
    "collapsed": true
   },
   "outputs": [],
   "source": [
    "def U_m(qi,ri,R,a,m): \n",
    "    \"\"\"\n",
    "        Args: qi => list of all charges.\n",
    "              ri => position vectors\n",
    "              R  => vell vectors to find volume\n",
    "              a  => alpha parameter.\n",
    "              m  => reciprocal space vector\n",
    "              \n",
    "        Output: Gives the U^m term in the Survey paper.\n",
    "    \"\"\"\n",
    "    results = 0\n",
    "    V = np.dot(R[0],np.cross(R[1],R[2]))\n",
    "    k1 = 2*np.pi*np.cross(R[1],R[2])/V\n",
    "    k2 = 2*np.pi*np.cross(R[2],R[0])/V\n",
    "    k3 = 2*np.pi*np.cross(R[0],R[1])/V\n",
    "    K = np.array([k1,k2,k3])\n",
    "    ms = [np.dot(K,np.array(i).T) for i in list(product(list(range(-int(m/2 +1),0)+list(range(int(m/2)))),repeat=3))]\n",
    "    print(len(ms))\n",
    "    for m in ms:\n",
    "        if np.any(m != 0):\n",
    "            for a_i in range(len(qi)):\n",
    "                for a_j in range(len(qi)):\n",
    "                    results += qi[a_i]*qi[a_j]* exp(-(pi*pi * np.dot(m,m)/(a*a)) + 2*pi*1j* np.dot(m,ri[a_i]-ri[a_j]))/np.dot(m,m)\n",
    "    \n",
    "    return results/(2*pi*V)"
   ]
  },
  {
   "cell_type": "code",
   "execution_count": 10,
   "metadata": {
    "collapsed": true
   },
   "outputs": [],
   "source": [
    "def U_o(qi,a):\n",
    "    \"\"\"\n",
    "        Args: qi => list of all charges.\n",
    "               a => alpha parameter.\n",
    "               \n",
    "        Output: Gives the U^0 term in the Survey paper.\n",
    "    \"\"\"\n",
    "    result = 0\n",
    "    for z in qi:\n",
    "        result += z*z      \n",
    "    return -a*result/(2*np.sqrt(np.pi))"
   ]
  },
  {
   "cell_type": "code",
   "execution_count": 12,
   "metadata": {
    "collapsed": false
   },
   "outputs": [],
   "source": [
    "def phi_survey(qi,ri,R,a,m,n):\n",
    "    return U_r(qi,ri,R,a,n)+U_m(qi,ri,R,a,m)+U_o(qi,a)\n"
   ]
  },
  {
   "cell_type": "code",
   "execution_count": 13,
   "metadata": {
    "collapsed": false
   },
   "outputs": [
    {
     "ename": "NameError",
     "evalue": "global name 'rs' is not defined",
     "output_type": "error",
     "traceback": [
      "\u001b[0;31m---------------------------------------------------------------------------\u001b[0m",
      "\u001b[0;31mNameError\u001b[0m                                 Traceback (most recent call last)",
      "\u001b[0;32m<ipython-input-13-a89bee8b1f96>\u001b[0m in \u001b[0;36m<module>\u001b[0;34m()\u001b[0m\n\u001b[0;32m----> 1\u001b[0;31m \u001b[0mphi_survey\u001b[0m\u001b[0;34m(\u001b[0m\u001b[0;34m[\u001b[0m\u001b[0;36m1\u001b[0m\u001b[0;34m,\u001b[0m\u001b[0;36m1\u001b[0m\u001b[0;34m]\u001b[0m\u001b[0;34m,\u001b[0m\u001b[0mnp\u001b[0m\u001b[0;34m.\u001b[0m\u001b[0marray\u001b[0m\u001b[0;34m(\u001b[0m\u001b[0;34m[\u001b[0m\u001b[0;34m[\u001b[0m\u001b[0;36m0.0\u001b[0m\u001b[0;34m,\u001b[0m\u001b[0;36m0.0\u001b[0m\u001b[0;34m,\u001b[0m\u001b[0;36m0.0\u001b[0m\u001b[0;34m]\u001b[0m\u001b[0;34m,\u001b[0m\u001b[0;34m[\u001b[0m\u001b[0;36m1.75\u001b[0m\u001b[0;34m,\u001b[0m\u001b[0;36m0.0\u001b[0m\u001b[0;34m,\u001b[0m\u001b[0;36m0.0\u001b[0m\u001b[0;34m]\u001b[0m\u001b[0;34m]\u001b[0m\u001b[0;34m)\u001b[0m\u001b[0;34m,\u001b[0m\u001b[0;34m[\u001b[0m\u001b[0;34m[\u001b[0m\u001b[0;36m6\u001b[0m\u001b[0;34m,\u001b[0m\u001b[0;36m0\u001b[0m\u001b[0;34m,\u001b[0m\u001b[0;36m0\u001b[0m\u001b[0;34m]\u001b[0m\u001b[0;34m,\u001b[0m\u001b[0;34m[\u001b[0m\u001b[0;36m0\u001b[0m\u001b[0;34m,\u001b[0m\u001b[0;36m6\u001b[0m\u001b[0;34m,\u001b[0m\u001b[0;36m0\u001b[0m\u001b[0;34m]\u001b[0m\u001b[0;34m,\u001b[0m\u001b[0;34m[\u001b[0m\u001b[0;36m0\u001b[0m\u001b[0;34m,\u001b[0m\u001b[0;36m0\u001b[0m\u001b[0;34m,\u001b[0m\u001b[0;36m6\u001b[0m\u001b[0;34m]\u001b[0m\u001b[0;34m]\u001b[0m\u001b[0;34m,\u001b[0m\u001b[0;36m0.55024769904855042\u001b[0m\u001b[0;34m,\u001b[0m\u001b[0;36m20\u001b[0m\u001b[0;34m,\u001b[0m\u001b[0;36m4\u001b[0m\u001b[0;34m)\u001b[0m\u001b[0;34m\u001b[0m\u001b[0m\n\u001b[0m",
      "\u001b[0;32m<ipython-input-12-1ff4441fa690>\u001b[0m in \u001b[0;36mphi_survey\u001b[0;34m(qi, ri, R, a, m, n)\u001b[0m\n\u001b[1;32m      1\u001b[0m \u001b[0;32mdef\u001b[0m \u001b[0mphi_survey\u001b[0m\u001b[0;34m(\u001b[0m\u001b[0mqi\u001b[0m\u001b[0;34m,\u001b[0m\u001b[0mri\u001b[0m\u001b[0;34m,\u001b[0m\u001b[0mR\u001b[0m\u001b[0;34m,\u001b[0m\u001b[0ma\u001b[0m\u001b[0;34m,\u001b[0m\u001b[0mm\u001b[0m\u001b[0;34m,\u001b[0m\u001b[0mn\u001b[0m\u001b[0;34m)\u001b[0m\u001b[0;34m:\u001b[0m\u001b[0;34m\u001b[0m\u001b[0m\n\u001b[0;32m----> 2\u001b[0;31m     \u001b[0;32mreturn\u001b[0m \u001b[0mU_r\u001b[0m\u001b[0;34m(\u001b[0m\u001b[0mqi\u001b[0m\u001b[0;34m,\u001b[0m\u001b[0mri\u001b[0m\u001b[0;34m,\u001b[0m\u001b[0mR\u001b[0m\u001b[0;34m,\u001b[0m\u001b[0ma\u001b[0m\u001b[0;34m,\u001b[0m\u001b[0mn\u001b[0m\u001b[0;34m)\u001b[0m\u001b[0;34m+\u001b[0m\u001b[0mU_m\u001b[0m\u001b[0;34m(\u001b[0m\u001b[0mqi\u001b[0m\u001b[0;34m,\u001b[0m\u001b[0mri\u001b[0m\u001b[0;34m,\u001b[0m\u001b[0mR\u001b[0m\u001b[0;34m,\u001b[0m\u001b[0ma\u001b[0m\u001b[0;34m,\u001b[0m\u001b[0mm\u001b[0m\u001b[0;34m)\u001b[0m\u001b[0;34m+\u001b[0m\u001b[0mU_o\u001b[0m\u001b[0;34m(\u001b[0m\u001b[0mqi\u001b[0m\u001b[0;34m,\u001b[0m\u001b[0ma\u001b[0m\u001b[0;34m)\u001b[0m\u001b[0;34m\u001b[0m\u001b[0m\n\u001b[0m",
      "\u001b[0;32m<ipython-input-8-5171beba4dd7>\u001b[0m in \u001b[0;36mU_r\u001b[0;34m(qi, ri, R, a, n)\u001b[0m\n\u001b[1;32m     22\u001b[0m                 \u001b[0;32melif\u001b[0m \u001b[0mnp\u001b[0m\u001b[0;34m.\u001b[0m\u001b[0many\u001b[0m\u001b[0;34m(\u001b[0m\u001b[0mn_L\u001b[0m \u001b[0;34m!=\u001b[0m \u001b[0;36m0\u001b[0m\u001b[0;34m)\u001b[0m\u001b[0;34m:\u001b[0m\u001b[0;34m\u001b[0m\u001b[0m\n\u001b[1;32m     23\u001b[0m                     \u001b[0mcount\u001b[0m \u001b[0;34m+=\u001b[0m \u001b[0;36m1\u001b[0m\u001b[0;34m\u001b[0m\u001b[0m\n\u001b[0;32m---> 24\u001b[0;31m                     \u001b[0mrijn\u001b[0m \u001b[0;34m=\u001b[0m \u001b[0mnp\u001b[0m\u001b[0;34m.\u001b[0m\u001b[0mlinalg\u001b[0m\u001b[0;34m.\u001b[0m\u001b[0mnorm\u001b[0m\u001b[0;34m(\u001b[0m\u001b[0mrs\u001b[0m\u001b[0;34m[\u001b[0m\u001b[0ma_i\u001b[0m\u001b[0;34m]\u001b[0m\u001b[0;34m-\u001b[0m\u001b[0mrs\u001b[0m\u001b[0;34m[\u001b[0m\u001b[0ma_j\u001b[0m\u001b[0;34m]\u001b[0m\u001b[0;34m+\u001b[0m\u001b[0mn_L\u001b[0m\u001b[0;34m)\u001b[0m\u001b[0;34m\u001b[0m\u001b[0m\n\u001b[0m\u001b[1;32m     25\u001b[0m                     \u001b[0mresult\u001b[0m \u001b[0;34m+=\u001b[0m \u001b[0mqi\u001b[0m\u001b[0;34m[\u001b[0m\u001b[0ma_i\u001b[0m\u001b[0;34m]\u001b[0m\u001b[0;34m*\u001b[0m\u001b[0mqi\u001b[0m\u001b[0;34m[\u001b[0m\u001b[0ma_j\u001b[0m\u001b[0;34m]\u001b[0m\u001b[0;34m*\u001b[0m\u001b[0merfc\u001b[0m\u001b[0;34m(\u001b[0m\u001b[0ma\u001b[0m \u001b[0;34m*\u001b[0m\u001b[0mrijn\u001b[0m\u001b[0;34m)\u001b[0m\u001b[0;34m/\u001b[0m\u001b[0mrijn\u001b[0m\u001b[0;34m\u001b[0m\u001b[0m\n\u001b[1;32m     26\u001b[0m \u001b[0;34m\u001b[0m\u001b[0m\n",
      "\u001b[0;31mNameError\u001b[0m: global name 'rs' is not defined"
     ]
    }
   ],
   "source": [
    "phi_survey([1,1],np.array([[0.0,0.0,0.0],[1.75,0.0,0.0]]),[[6,0,0],[0,6,0],[0,0,6]],0.55024769904855042,20,4)"
   ]
  },
  {
   "cell_type": "code",
   "execution_count": null,
   "metadata": {
    "collapsed": true
   },
   "outputs": [],
   "source": []
  }
 ],
 "metadata": {
  "kernelspec": {
   "display_name": "Python 2",
   "language": "python",
   "name": "python2"
  },
  "language_info": {
   "codemirror_mode": {
    "name": "ipython",
    "version": 2
   },
   "file_extension": ".py",
   "mimetype": "text/x-python",
   "name": "python",
   "nbconvert_exporter": "python",
   "pygments_lexer": "ipython2",
   "version": "2.7.12"
  }
 },
 "nbformat": 4,
 "nbformat_minor": 1
}
